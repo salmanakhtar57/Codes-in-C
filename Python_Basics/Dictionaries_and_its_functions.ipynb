{
  "nbformat": 4,
  "nbformat_minor": 0,
  "metadata": {
    "colab": {
      "name": "Dictionaries and its functions.ipynb",
      "provenance": [],
      "collapsed_sections": [],
      "authorship_tag": "ABX9TyPmWEBguva5vvrssGeeuOMM",
      "include_colab_link": true
    },
    "kernelspec": {
      "name": "python3",
      "display_name": "Python 3"
    },
    "language_info": {
      "name": "python"
    }
  },
  "cells": [
    {
      "cell_type": "markdown",
      "metadata": {
        "id": "view-in-github",
        "colab_type": "text"
      },
      "source": [
        "<a href=\"https://colab.research.google.com/github/salmanakhtar57/DSA-in-C/blob/main/Python_Basics/Dictionaries_and_its_functions.ipynb\" target=\"_parent\"><img src=\"https://colab.research.google.com/assets/colab-badge.svg\" alt=\"Open In Colab\"/></a>"
      ]
    },
    {
      "cell_type": "code",
      "execution_count": null,
      "metadata": {
        "colab": {
          "base_uri": "https://localhost:8080/"
        },
        "id": "Zvqlxom4IPL1",
        "outputId": "1a937715-c664-4434-89f4-fce47074466a"
      },
      "outputs": [
        {
          "output_type": "stream",
          "name": "stdout",
          "text": [
            "<class 'dict'>\n"
          ]
        }
      ],
      "source": [
        "#Dictionary is nothing but key value pairs.\n",
        "d1 = {}\n",
        "print(type(d1))"
      ]
    },
    {
      "cell_type": "code",
      "source": [
        "#print(type[d1])\n",
        "#The value of dictionary can be a dictionary, a list or a tupple. Keys should be immutable.\n",
        "d2 = {\"Salman\":\"Python\",\n",
        "      \"Hassan\":\"Java\", \"Qamar\":\"PHP\",\n",
        "      \"Maken\":{\"B\":\"Yougurt\", \"L\":\"Egg\"}}\n",
        "d2[\"Ali\"] = \"BMW\"\n",
        "d2[512] = \"UK\"\n",
        "del d2[\"Ali\"]\n",
        "\n",
        "#print(d2[\"Maken\"][\"B\"])\n",
        "print(d2)"
      ],
      "metadata": {
        "colab": {
          "base_uri": "https://localhost:8080/"
        },
        "id": "DxRICukfJBYV",
        "outputId": "dffcbb63-d220-4d98-916e-9fbc9deb776c"
      },
      "execution_count": null,
      "outputs": [
        {
          "output_type": "stream",
          "name": "stdout",
          "text": [
            "{'Salman': 'Python', 'Hassan': 'Java', 'Qamar': 'PHP', 'Maken': {'B': 'Yougurt', 'L': 'Egg'}, 512: 'UK'}\n"
          ]
        }
      ]
    },
    {
      "cell_type": "code",
      "source": [
        "d3 = {\"Salman\":\"Python\",\n",
        "      \"Hassan\":\"Java\",\n",
        "      \"Qamar\":\"PHP\",\n",
        "      \"Maken\":{\"B\":\"Yougurt\", \"L\":\"Egg\"}}\n",
        "print(d2.copy())"
      ],
      "metadata": {
        "colab": {
          "base_uri": "https://localhost:8080/"
        },
        "id": "n8ueHezgMQxL",
        "outputId": "6fecdbeb-a2ef-4ad0-85b3-a0d091376b44"
      },
      "execution_count": null,
      "outputs": [
        {
          "output_type": "stream",
          "name": "stdout",
          "text": [
            "{'Salman': 'Python', 'Hassan': 'Java', 'Qamar': 'PHP', 'Maken': {'B': 'Yougurt', 'L': 'Egg'}, 512: 'UK'}\n"
          ]
        }
      ]
    },
    {
      "cell_type": "code",
      "source": [
        "d2 = d3\n",
        "print(d3.copy())"
      ],
      "metadata": {
        "colab": {
          "base_uri": "https://localhost:8080/"
        },
        "id": "lNFeuDDvMjn5",
        "outputId": "5525eb64-59c9-4604-da3b-7fa6a05882d6"
      },
      "execution_count": null,
      "outputs": [
        {
          "output_type": "stream",
          "name": "stdout",
          "text": [
            "{'Salman': 'Python', 'Hassan': 'Java', 'Qamar': 'PHP', 'Maken': {'B': 'Yougurt', 'L': 'Egg'}}\n"
          ]
        }
      ]
    },
    {
      "cell_type": "code",
      "source": [
        "print(d3.get(\"Qamar\"))"
      ],
      "metadata": {
        "colab": {
          "base_uri": "https://localhost:8080/"
        },
        "id": "jhr9ERBtMys6",
        "outputId": "6d63e624-1d23-40fb-f58e-0bd8793834b6"
      },
      "execution_count": null,
      "outputs": [
        {
          "output_type": "stream",
          "name": "stdout",
          "text": [
            "PHP\n"
          ]
        }
      ]
    },
    {
      "cell_type": "code",
      "source": [
        "d3.update({\"Alina\":\"Coffee\"})\n",
        "print(d3)"
      ],
      "metadata": {
        "colab": {
          "base_uri": "https://localhost:8080/"
        },
        "id": "jkX_rPfnNSiA",
        "outputId": "bda51efc-a78f-47ed-961c-87e22cf267c1"
      },
      "execution_count": null,
      "outputs": [
        {
          "output_type": "stream",
          "name": "stdout",
          "text": [
            "{'Salman': 'Python', 'Hassan': 'Java', 'Qamar': 'PHP', 'Maken': {'B': 'Yougurt', 'L': 'Egg'}, 'Alina': 'Coffee'}\n"
          ]
        }
      ]
    },
    {
      "cell_type": "code",
      "source": [
        "print(d2.keys())"
      ],
      "metadata": {
        "colab": {
          "base_uri": "https://localhost:8080/"
        },
        "id": "LwXXN4IjNrZA",
        "outputId": "ea66be72-8619-4691-cb83-89c29f90bbca"
      },
      "execution_count": null,
      "outputs": [
        {
          "output_type": "stream",
          "name": "stdout",
          "text": [
            "dict_keys(['Salman', 'Hassan', 'Qamar', 'Maken', 'Alina'])\n"
          ]
        }
      ]
    },
    {
      "cell_type": "code",
      "source": [
        "print(d3.items())"
      ],
      "metadata": {
        "colab": {
          "base_uri": "https://localhost:8080/"
        },
        "id": "J2uPjiilN3XK",
        "outputId": "41931b2a-68fe-4efe-92b7-e669678beea6"
      },
      "execution_count": null,
      "outputs": [
        {
          "output_type": "stream",
          "name": "stdout",
          "text": [
            "dict_items([('Salman', 'Python'), ('Hassan', 'Java'), ('Qamar', 'PHP'), ('Maken', {'B': 'Yougurt', 'L': 'Egg'}), ('Alina', 'Coffee')])\n"
          ]
        }
      ]
    },
    {
      "cell_type": "code",
      "source": [
        "B = [2, 3, 1, 4, 7, 5]\n",
        "\n",
        "B.sort()\n",
        "\n",
        "print(B)"
      ],
      "metadata": {
        "colab": {
          "base_uri": "https://localhost:8080/"
        },
        "id": "vGrrUd9Z6t05",
        "outputId": "4db54d02-b06d-40dd-9d8d-9074bb9d64d1"
      },
      "execution_count": null,
      "outputs": [
        {
          "output_type": "stream",
          "name": "stdout",
          "text": [
            "[1, 2, 3, 4, 5, 7]\n"
          ]
        }
      ]
    },
    {
      "cell_type": "code",
      "source": [
        ""
      ],
      "metadata": {
        "id": "lkNn1S4M7DD3"
      },
      "execution_count": null,
      "outputs": []
    }
  ]
}